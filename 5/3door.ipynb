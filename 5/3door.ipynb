{
 "cells": [
  {
   "cell_type": "code",
   "execution_count": 3,
   "id": "11c7e3aa",
   "metadata": {},
   "outputs": [],
   "source": [
    "import numpy as np\n",
    "from collections import Counter\n",
    "car_list=np.random.randint(0, 3, size=1000)\n",
    "\n",
    "def select_a_door():\n",
    "    return np.random.randint(0, 3)\n",
    "\n",
    "def open_a_door(car_pos,select_pos):\n",
    "    list=[0,1,2]\n",
    "    if car_pos==select_pos:\n",
    "        list.remove(car_pos)\n",
    "    else:\n",
    "        list.remove(car_pos)\n",
    "        list.remove(select_pos)\n",
    "    return np.random.choice(list)\n",
    "\n",
    "\n",
    "\n",
    "\n",
    "\n",
    "\n",
    "\n"
   ]
  },
  {
   "cell_type": "code",
   "execution_count": null,
   "id": "db5ed590",
   "metadata": {},
   "outputs": [],
   "source": [
    "if __name__ == '__main__':\n",
    "\n",
    "    no_change_success_record=list()\n",
    "    change_success_record=list()\n",
    "    select=list()\n",
    "    for i in range(len(car_list)):\n",
    "        select_door = select_a_door()\n",
    "        open_door = open_a_door(car_list[i], select_door)\n",
    "        no_change_success_record.append(select_door==car_list[i])\n",
    "        list = [0, 1, 2]\n",
    "        list.remove(select_door)\n",
    "        list.remove(open_door)\n",
    "        select_door=np.random.choice(list)\n",
    "        change_success_record.append(select_door==car_list[i])\n",
    "    print(Counter(no_change_success_record))\n",
    "    print(Counter(change_success_record))"
   ]
  }
 ],
 "metadata": {
  "kernelspec": {
   "display_name": "Python 3 (ipykernel)",
   "language": "python",
   "name": "python3"
  },
  "language_info": {
   "codemirror_mode": {
    "name": "ipython",
    "version": 3
   },
   "file_extension": ".py",
   "mimetype": "text/x-python",
   "name": "python",
   "nbconvert_exporter": "python",
   "pygments_lexer": "ipython3",
   "version": "3.9.13"
  }
 },
 "nbformat": 4,
 "nbformat_minor": 5
}
